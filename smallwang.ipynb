{
 "cells": [
  {
   "cell_type": "code",
   "execution_count": 11,
   "id": "2299281a",
   "metadata": {},
   "outputs": [
    {
     "data": {
      "text/plain": [
       "DeltaGenerator(_root_container=0, _provided_cursor=None, _parent=None, _block_type=None, _form_data=None)"
      ]
     },
     "execution_count": 11,
     "metadata": {},
     "output_type": "execute_result"
    },
    {
     "data": {
      "image/png": "[encoded data removed]",
      "text/plain": [
       "<Figure size 576x396 with 1 Axes>"
      ]
     },
     "metadata": {},
     "output_type": "display_data"
    }
   ],
   "source": [
    "import streamlit as st\n",
    "import pandas as pd\n",
    "import matplotlib.pyplot as plt\n",
    "plt.style.use(\"seaborn\")\n",
    "\n",
    "\n",
    "st.title('California Housing Data (1990) by Dane Zimmerman')\n",
    "df= pd.read_csv('housing.csv')\n",
    "\n",
    "# note that you have to use 0.0 and 40.0 qiven that the data type of population is float\n",
    "price_filter = st.slider ('Median House Price:', 0.0,500001.0, 200000.0)\n",
    "\n",
    "location_filter = st.sidebar.multiselect(\n",
    "\n",
    "    'Choose the location',\n",
    "\n",
    "    df.ocean_proximity.unique(),\n",
    "    df.ocean_proximity.unique())\n",
    "income_filter =st. sidebar.radio('Choose income level',('Low','Medium','High' ))\n",
    "\n",
    "df= df[df.median_house_value <= price_filter]\n",
    "df = df[df.ocean_proximity.isin(location_filter)]\n",
    "\n",
    "if income_filter =='Low':\n",
    "\n",
    "    df[df.median_income<=2.5]\n",
    "elif income_filter == 'Medium':\n",
    "    df[ (df.median_income< 2.5) & (df. median_income < 4.5) ]\n",
    "elif income_filter =='High':\n",
    "    df[df.median_income >=4.5]\n",
    "\n",
    "st.subheader('See more filters in the sidehar')\n",
    "st.map(df)\n",
    "st. subheader('Histogram of the Median House Value')\n",
    "\n",
    "fig, ax=plt. subplots()\n",
    "\n",
    "df.median_house_value.hist(ax=ax, bins=30)\n",
    "\n",
    "st.pyplot (fig)\n"
   ]
  },
  {
   "cell_type": "code",
   "execution_count": null,
   "id": "6d9775cd",
   "metadata": {},
   "outputs": [],
   "source": []
  },
  {
   "cell_type": "code",
   "execution_count": null,
   "id": "684a8293",
   "metadata": {},
   "outputs": [],
   "source": []
  }
 ],
 "metadata": {
  "kernelspec": {
   "display_name": "Python 3 (ipykernel)",
   "language": "python",
   "name": "python3"
  },
  "language_info": {
   "codemirror_mode": {
    "name": "ipython",
    "version": 3
   },
   "file_extension": ".py",
   "mimetype": "text/x-python",
   "name": "python",
   "nbconvert_exporter": "python",
   "pygments_lexer": "ipython3",
   "version": "3.9.7"
  }
 },
 "nbformat": 4,
 "nbformat_minor": 5
}
